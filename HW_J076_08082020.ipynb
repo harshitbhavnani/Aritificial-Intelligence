{
  "nbformat": 4,
  "nbformat_minor": 0,
  "metadata": {
    "colab": {
      "name": "HW_J076_08082020.ipynb",
      "provenance": [],
      "collapsed_sections": [],
      "authorship_tag": "ABX9TyMUMuKg5SzUDMngPFFbgJqZ",
      "include_colab_link": true
    },
    "kernelspec": {
      "name": "python3",
      "display_name": "Python 3"
    }
  },
  "cells": [
    {
      "cell_type": "markdown",
      "metadata": {
        "id": "view-in-github",
        "colab_type": "text"
      },
      "source": [
        "<a href=\"https://colab.research.google.com/github/harshitbhavnani/Aritificial-Intelligence/blob/Home-Work/HW_J076_08082020.ipynb\" target=\"_parent\"><img src=\"https://colab.research.google.com/assets/colab-badge.svg\" alt=\"Open In Colab\"/></a>"
      ]
    },
    {
      "cell_type": "code",
      "metadata": {
        "id": "G3IT65yPnd_2",
        "colab_type": "code",
        "colab": {
          "base_uri": "https://localhost:8080/",
          "height": 105
        },
        "outputId": "26f8fcf0-df6b-404d-9f72-848852f34c14"
      },
      "source": [
        "t = int(input())\n",
        "\n",
        "s=0\n",
        "a=[None]*2\n",
        "\n",
        "for e in range(t):\n",
        "    nk = input().split()\n",
        "\n",
        "    n = int(nk[0])\n",
        "\n",
        "    k = int(nk[1])\n",
        "\n",
        "    arr = list(map(int, input().rstrip().split()))\n",
        "    a[s]=(unboundedKnapsack(k, arr))\n",
        "    s=s+1"
      ],
      "execution_count": 21,
      "outputs": [
        {
          "output_type": "stream",
          "text": [
            "2\n",
            "3 12\n",
            "1 6 9\n",
            "5 9\n",
            "3 4 4 4 8\n"
          ],
          "name": "stdout"
        }
      ]
    },
    {
      "cell_type": "code",
      "metadata": {
        "id": "2KZUIyaEPrq8",
        "colab_type": "code",
        "colab": {}
      },
      "source": [
        "def unboundedKnapsack(k, arr):\n",
        "    new_arr = [n for n in set(arr) if n <= k]\n",
        "    if not new_arr:\n",
        "        return 0\n",
        "    if len(new_arr) == 1:\n",
        "        return k // new_arr[0] * new_arr[0]\n",
        "    if min([(k % n) for n in new_arr]) == 0:\n",
        "        return k\n",
        "    return max([n + unboundedKnapsack((k - n), new_arr) for n in new_arr])"
      ],
      "execution_count": 19,
      "outputs": []
    },
    {
      "cell_type": "code",
      "metadata": {
        "id": "weJ9rLQATggQ",
        "colab_type": "code",
        "colab": {
          "base_uri": "https://localhost:8080/",
          "height": 52
        },
        "outputId": "07cbe7d5-f005-416e-a492-b79cdef81cf7"
      },
      "source": [
        "for qt in range(2):\n",
        "  print(a[qt])"
      ],
      "execution_count": 24,
      "outputs": [
        {
          "output_type": "stream",
          "text": [
            "12\n",
            "9\n"
          ],
          "name": "stdout"
        }
      ]
    }
  ]
}