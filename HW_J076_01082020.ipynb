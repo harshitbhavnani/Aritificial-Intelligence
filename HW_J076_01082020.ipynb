{
  "nbformat": 4,
  "nbformat_minor": 0,
  "metadata": {
    "colab": {
      "name": "HW_J076_01082020.ipynb",
      "provenance": [],
      "authorship_tag": "ABX9TyPbBqYl2JK4DIygdgUxRsYt",
      "include_colab_link": true
    },
    "kernelspec": {
      "name": "python3",
      "display_name": "Python 3"
    }
  },
  "cells": [
    {
      "cell_type": "markdown",
      "metadata": {
        "id": "view-in-github",
        "colab_type": "text"
      },
      "source": [
        "<a href=\"https://colab.research.google.com/github/harshitbhavnani/Aritificial-Intelligence/blob/Home-Work/HW_J076_01082020.ipynb\" target=\"_parent\"><img src=\"https://colab.research.google.com/assets/colab-badge.svg\" alt=\"Open In Colab\"/></a>"
      ]
    },
    {
      "cell_type": "markdown",
      "metadata": {
        "id": "RZ6P1AzkOS6y",
        "colab_type": "text"
      },
      "source": [
        "# **Name: Harshit Bhavnani**\n",
        "# Roll No: J076"
      ]
    },
    {
      "cell_type": "markdown",
      "metadata": {
        "id": "e8O6bH7bPBd7",
        "colab_type": "text"
      },
      "source": [
        "**Question 1**\n",
        "\n",
        "Validating Postal Codes\n",
        "\n",
        "Link - https://www.hackerrank.com/rest/contests/master/challenges/validating-postalcode/hackers/harshit_bhavnani/download_solution"
      ]
    },
    {
      "cell_type": "code",
      "metadata": {
        "id": "tZ9Yf48lPfrt",
        "colab_type": "code",
        "colab": {}
      },
      "source": [
        "s = input()\n",
        "print(s.isdigit() and 100000 <= int(s) <= 999999 and \n",
        "      sum([s[i] == s[i+2] for i in range(0, 4)]) < 2)"
      ],
      "execution_count": null,
      "outputs": []
    },
    {
      "cell_type": "markdown",
      "metadata": {
        "id": "ZdyaF5n1Oc7c",
        "colab_type": "text"
      },
      "source": [
        "**Question 2**\n",
        "\n",
        "Sherlock and Cost\n",
        "\n",
        "Link - https://www.hackerrank.com/rest/contests/master/challenges/sherlock-and-cost/hackers/harshit_bhavnani/download_solution"
      ]
    },
    {
      "cell_type": "code",
      "metadata": {
        "id": "ebdOQQy0Np30",
        "colab_type": "code",
        "colab": {}
      },
      "source": [
        "t=int(input())\n",
        "\n",
        "for i in range(t):\n",
        "    n=int(input())\n",
        "    b=[int(x) for x in input().split(' ')]    \n",
        "    maximum, max1 = 0, 0\n",
        "    for i in range(1,len(b)):\n",
        "        curr, prev = b[i], b[i-1]\n",
        "        nmax = max(maximum + abs(curr - prev), max1 + (curr - 1))\n",
        "        nmax1 = max(maximum + abs(1 - prev), max1)\n",
        "        maximum, max1 = nmax, nmax1    \n",
        "    print(max(maximum, max1))"
      ],
      "execution_count": null,
      "outputs": []
    },
    {
      "cell_type": "markdown",
      "metadata": {
        "id": "pMaIVLmPPi3-",
        "colab_type": "text"
      },
      "source": [
        "**Question 3**\n",
        "\n",
        "Coin Change\n",
        "\n",
        "Link - https://www.hackerrank.com/rest/contests/master/challenges/coin-change/hackers/harshit_bhavnani/download_solution"
      ]
    },
    {
      "cell_type": "code",
      "metadata": {
        "id": "3Vnwqn2uPzBj",
        "colab_type": "code",
        "colab": {}
      },
      "source": [
        "a, b = map(int,input().split())\n",
        "c = list(map(int,input().split()))\n",
        "d = [1]+[0]*a\n",
        "for i in range(b): \n",
        "    for j in range(c[i], a+1): d[j]+=d[j-c[i]]\n",
        "print(d[-1])"
      ],
      "execution_count": null,
      "outputs": []
    }
  ]
}