{
  "nbformat": 4,
  "nbformat_minor": 0,
  "metadata": {
    "colab": {
      "name": "CW_J076_01082020.ipynb",
      "provenance": [],
      "include_colab_link": true
    },
    "kernelspec": {
      "name": "python3",
      "display_name": "Python 3"
    }
  },
  "cells": [
    {
      "cell_type": "markdown",
      "metadata": {
        "id": "view-in-github",
        "colab_type": "text"
      },
      "source": [
        "<a href=\"https://colab.research.google.com/github/harshitbhavnani/Aritificial-Intelligence/blob/Class-Work/CW_J076_01082020.ipynb\" target=\"_parent\"><img src=\"https://colab.research.google.com/assets/colab-badge.svg\" alt=\"Open In Colab\"/></a>"
      ]
    },
    {
      "cell_type": "markdown",
      "metadata": {
        "id": "6SoSuQG9RerT",
        "colab_type": "text"
      },
      "source": [
        "# **Dynamic Programming**\n",
        "\n",
        "Recursion - function calling itself during execution\n",
        "\n",
        "Memoisation - Memorandum (Latin) (To be remembered)\n",
        "\n",
        "Stores intermediate values, through various ways"
      ]
    },
    {
      "cell_type": "markdown",
      "metadata": {
        "id": "I021VGu_RsBh",
        "colab_type": "text"
      },
      "source": [
        "**Recursion Function**"
      ]
    },
    {
      "cell_type": "code",
      "metadata": {
        "id": "6KqJcr81_dP8",
        "colab_type": "code",
        "colab": {}
      },
      "source": [
        "# Calculating 7!\n",
        "\n",
        "def factorial_recursion(n):\n",
        "    factor=1\n",
        "    if (n==0):\n",
        "        return factor\n",
        "    else:\n",
        "        return n*factorial_recursion(n-1)\n",
        "\n",
        "def factorial_simpl(n):\n",
        "    factor=1\n",
        "    for i in range(1,n+1):\n",
        "        factor=factor*i\n",
        "    return factor"
      ],
      "execution_count": 14,
      "outputs": []
    },
    {
      "cell_type": "code",
      "metadata": {
        "id": "7EOmy7T3GlJf",
        "colab_type": "code",
        "colab": {
          "base_uri": "https://localhost:8080/",
          "height": 34
        },
        "outputId": "17a88523-50bb-4ace-dddb-9825d2e78d9b"
      },
      "source": [
        "#Calling the function to find the factorial of 7 by recursion\n",
        "\n",
        "factorial_recursion(7)"
      ],
      "execution_count": 16,
      "outputs": [
        {
          "output_type": "execute_result",
          "data": {
            "text/plain": [
              "5040"
            ]
          },
          "metadata": {
            "tags": []
          },
          "execution_count": 16
        }
      ]
    },
    {
      "cell_type": "code",
      "metadata": {
        "id": "jrsWs-gaH8D5",
        "colab_type": "code",
        "colab": {
          "base_uri": "https://localhost:8080/",
          "height": 34
        },
        "outputId": "765ff6d8-39b8-429b-defb-2d2884ef4266"
      },
      "source": [
        "#Calling the function to find the factorial of 7 by loop\n",
        "\n",
        "factorial_simpl(7)"
      ],
      "execution_count": 17,
      "outputs": [
        {
          "output_type": "execute_result",
          "data": {
            "text/plain": [
              "5040"
            ]
          },
          "metadata": {
            "tags": []
          },
          "execution_count": 17
        }
      ]
    },
    {
      "cell_type": "markdown",
      "metadata": {
        "id": "rXJLgHn3Vqfv",
        "colab_type": "text"
      },
      "source": [
        "**Fibonacci sequence using while loop**"
      ]
    },
    {
      "cell_type": "code",
      "metadata": {
        "id": "sBw1aozOIEP9",
        "colab_type": "code",
        "colab": {
          "base_uri": "https://localhost:8080/",
          "height": 141
        },
        "outputId": "59382fa9-2484-483c-e359-ef18245c90f7"
      },
      "source": [
        "#fibonacci sequence\n",
        "n = int(input(\"How many terms? \"))\n",
        "n1, n2 = 0, 1\n",
        "count = 0\n",
        "# check if the number of terms is valid\n",
        "\n",
        "if n==1:\n",
        "  print(0)\n",
        "elif n==2:\n",
        "  print(1)\n",
        "else :\n",
        "  while count <n:\n",
        "    print(n1) \n",
        "    t=n1+n2\n",
        "    n1=n2\n",
        "    n2=t\n",
        "    count=count+1"
      ],
      "execution_count": 31,
      "outputs": [
        {
          "output_type": "stream",
          "text": [
            "How many terms? 6\n",
            "0\n",
            "1\n",
            "1\n",
            "2\n",
            "3\n",
            "5\n"
          ],
          "name": "stdout"
        }
      ]
    },
    {
      "cell_type": "markdown",
      "metadata": {
        "id": "ppRfMStWV7um",
        "colab_type": "text"
      },
      "source": [
        "**Fibonacci sequence using recursion**"
      ]
    },
    {
      "cell_type": "code",
      "metadata": {
        "id": "ZfLRW1EUV6rT",
        "colab_type": "code",
        "colab": {
          "base_uri": "https://localhost:8080/",
          "height": 158
        },
        "outputId": "fb07829c-90db-4590-f42e-9ea59d7232b8"
      },
      "source": [
        "def recur_fibo(n):  \n",
        "   if n <= 1:  \n",
        "       return n  \n",
        "   else:  \n",
        "       return(recur_fibo(n-1) + recur_fibo(n-2))  \n",
        "nterms = int(input(\"How many terms? \"))  \n",
        "if nterms <= 0:  \n",
        "   print(\"Plese enter a positive integer\")  \n",
        "else:  \n",
        "   print(\"Fibonacci sequence:\")  \n",
        "   for i in range(nterms):  \n",
        "       print(recur_fibo(i))"
      ],
      "execution_count": 33,
      "outputs": [
        {
          "output_type": "stream",
          "text": [
            "How many terms? 6\n",
            "Fibonacci sequence:\n",
            "0\n",
            "1\n",
            "1\n",
            "2\n",
            "3\n",
            "5\n"
          ],
          "name": "stdout"
        }
      ]
    },
    {
      "cell_type": "code",
      "metadata": {
        "id": "RpBCvw6cQ8VD",
        "colab_type": "code",
        "colab": {
          "base_uri": "https://localhost:8080/",
          "height": 34
        },
        "outputId": "dad5f7ee-d860-4aeb-b882-6abe41fb1ad5"
      },
      "source": [
        "#returns n+1 th number instead of nth number \n",
        "\n",
        "def fibo_1(n):\n",
        "    # n: whole number \n",
        "    # returns the n+1th number\n",
        "    if n==0 or n==1:\n",
        "        return n \n",
        "    else : \n",
        "        return fibo_1(n-1)+fibo_1(n-2)\n",
        "\n",
        "fibo_1(7)"
      ],
      "execution_count": 22,
      "outputs": [
        {
          "output_type": "execute_result",
          "data": {
            "text/plain": [
              "13"
            ]
          },
          "metadata": {
            "tags": []
          },
          "execution_count": 22
        }
      ]
    },
    {
      "cell_type": "markdown",
      "metadata": {
        "id": "p6dtuNjaWKE8",
        "colab_type": "text"
      },
      "source": [
        "**Fibonacci using Loop**"
      ]
    },
    {
      "cell_type": "code",
      "metadata": {
        "id": "njaQDQ6MWNvG",
        "colab_type": "code",
        "colab": {
          "base_uri": "https://localhost:8080/",
          "height": 34
        },
        "outputId": "fafdc1db-9443-4ee0-a360-bbbec2135925"
      },
      "source": [
        "def fibonacci(n): \n",
        "    a = 0\n",
        "    b = 1\n",
        "    if n < 0: \n",
        "        print(\"Incorrect input\") \n",
        "    elif n == 0: \n",
        "        return a \n",
        "    elif n == 1: \n",
        "        return b \n",
        "    else: \n",
        "        for i in range(2,n): \n",
        "            c = a + b \n",
        "            a = b \n",
        "            b = c \n",
        "        return b \n",
        "print(fibonacci(10))"
      ],
      "execution_count": 34,
      "outputs": [
        {
          "output_type": "stream",
          "text": [
            "34\n"
          ],
          "name": "stdout"
        }
      ]
    },
    {
      "cell_type": "markdown",
      "metadata": {
        "id": "G2Zf2qrnXI-2",
        "colab_type": "text"
      },
      "source": [
        "# **Tractable - PTIME (Polynomial Time Solvable)**\n",
        "\n",
        "Solution is in Polynomial Time\n",
        "\n",
        "Polynomial - expression where each term is n^k where k can be any whole number\n",
        "Degree of the polynomial highest power of the variable within the expression \n",
        "\n",
        "Polynomial Time - Runtime of the code or solution should be a polynomial of degree k where k is a constant, and since it is time n cannot be negative\n",
        "\n",
        "n: input space or dimension \n",
        "\n",
        "eg O(n^4) - 3*n^4+2*n^2+1\n",
        "n=1 => 1\n",
        "n=2 => 2^4\n",
        "n=3 => 3^4\n",
        "n=4 => 4^4 ...\n",
        "\n",
        "O(n!)\n",
        "n*n-1*n-2*...1 -> Polynomial of Degree n-1 - Non Polynomial Time (NP)\n"
      ]
    },
    {
      "cell_type": "code",
      "metadata": {
        "id": "XgMfiB7QV6K4",
        "colab_type": "code",
        "colab": {
          "base_uri": "https://localhost:8080/",
          "height": 34
        },
        "outputId": "33ec3994-f274-45e4-863d-9b7019db1891"
      },
      "source": [
        "#Binary Search\n",
        "\n",
        "l1 = [5,3,2,1,6,7,123,97,65,34,22,344,2245,122,45]\n",
        "#search for element 97\n",
        "l2 =l1.copy().sort()\n",
        "print(l2)"
      ],
      "execution_count": 38,
      "outputs": [
        {
          "output_type": "stream",
          "text": [
            "None\n"
          ],
          "name": "stdout"
        }
      ]
    }
  ]
}