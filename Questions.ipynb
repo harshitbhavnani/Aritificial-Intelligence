{
  "nbformat": 4,
  "nbformat_minor": 0,
  "metadata": {
    "colab": {
      "name": "Questions.ipynb",
      "provenance": [],
      "authorship_tag": "ABX9TyO6nFKWJOXX/swBrwdIGL/G",
      "include_colab_link": true
    },
    "kernelspec": {
      "name": "python3",
      "display_name": "Python 3"
    }
  },
  "cells": [
    {
      "cell_type": "markdown",
      "metadata": {
        "id": "view-in-github",
        "colab_type": "text"
      },
      "source": [
        "<a href=\"https://colab.research.google.com/github/harshitbhavnani/Aritificial-Intelligence/blob/master/Questions.ipynb\" target=\"_parent\"><img src=\"https://colab.research.google.com/assets/colab-badge.svg\" alt=\"Open In Colab\"/></a>"
      ]
    },
    {
      "cell_type": "code",
      "metadata": {
        "id": "iMghjMtCupSi"
      },
      "source": [
        "import nltk\n",
        "import sys\n",
        "import os\n",
        "import string\n",
        "import math"
      ],
      "execution_count": 1,
      "outputs": []
    },
    {
      "cell_type": "code",
      "metadata": {
        "id": "EBz7gyrmzz4f"
      },
      "source": [
        "FILE_MATCHES = 4\n",
        "SENTENCE_MATCHES = 1"
      ],
      "execution_count": 2,
      "outputs": []
    },
    {
      "cell_type": "code",
      "metadata": {
        "id": "x236GUFrz0B6"
      },
      "source": [
        "def main():\n",
        "\n",
        "    # Check command-line arguments\n",
        "    if len(sys.argv) != 2:\n",
        "        sys.exit(\"Usage: python questions.py corpus\")\n",
        "\n",
        "    # Calculate IDF values across files\n",
        "    files = load_files(sys.argv[1])\n",
        "    file_words = {\n",
        "        filename: tokenize(files[filename])\n",
        "        for filename in files\n",
        "    }\n",
        "    file_idfs = compute_idfs(file_words)\n",
        "\n",
        "    # Prompt user for query\n",
        "    query = set(tokenize(input(\"Query: \")))\n",
        "\n",
        "    # Determine top file matches according to TF-IDF\n",
        "    filenames = top_files(query, file_words, file_idfs, n=FILE_MATCHES)\n",
        "\n",
        "    # Extract sentences from top files\n",
        "    sentences = dict()\n",
        "    for filename in filenames:\n",
        "        for passage in files[filename].split(\"\\n\"):\n",
        "            for sentence in nltk.sent_tokenize(passage):\n",
        "                tokens = tokenize(sentence)\n",
        "                if tokens:\n",
        "                    sentences[sentence] = tokens\n",
        "\n",
        "    # Compute IDF values across sentences\n",
        "    idfs = compute_idfs(sentences)\n",
        "\n",
        "    # Determine top sentence matches\n",
        "    matches = top_sentences(query, sentences, idfs, n=SENTENCE_MATCHES)\n",
        "    for match in matches:\n",
        "        print(match)"
      ],
      "execution_count": 3,
      "outputs": []
    },
    {
      "cell_type": "code",
      "metadata": {
        "id": "vSSz8JV0z0Ka"
      },
      "source": [
        "def load_files(directory):\n",
        "\n",
        "    corpus = dict()\n",
        "\n",
        "    for filename in os.listdir(directory):\n",
        "        file_path = os.path.join(directory, filename)\n",
        "        if os.path.isfile(file_path) and filename.endswith(\".txt\"):\n",
        "            with open(file_path, \"r\", encoding='utf8') as file:\n",
        "                corpus[filename] = file.read()\n",
        "\n",
        "    return corpus"
      ],
      "execution_count": 4,
      "outputs": []
    },
    {
      "cell_type": "code",
      "metadata": {
        "id": "ZSnoDlsF0FLe"
      },
      "source": [
        "def tokenize(document):\n",
        "\n",
        "    words = nltk.word_tokenize(document)\n",
        "\n",
        "    return [\n",
        "        word.lower() for word in words\n",
        "        # Filter out any stopword\n",
        "        if word not in nltk.corpus.stopwords.words(\"english\")\n",
        "        # Filter out any word that only contains punctuation symbols ('-', '--') but not ('self-driving')\n",
        "        and not all(char in string.punctuation for char in word)\n",
        "    ]"
      ],
      "execution_count": 5,
      "outputs": []
    },
    {
      "cell_type": "code",
      "metadata": {
        "id": "H04kSL3oz0YM"
      },
      "source": [
        "def compute_idfs(documents):\n",
        "\n",
        "    counts = dict()\n",
        "\n",
        "    for filename in documents:\n",
        "        seen_words = set()\n",
        "\n",
        "        for word in documents[filename]:\n",
        "            if word not in seen_words:\n",
        "                seen_words.add(word)\n",
        "                try:\n",
        "                    counts[word] += 1\n",
        "                except KeyError:\n",
        "                    counts[word] = 1\n",
        "\n",
        "    return {word: math.log(len(documents) / counts[word]) for word in counts}"
      ],
      "execution_count": 6,
      "outputs": []
    },
    {
      "cell_type": "code",
      "metadata": {
        "id": "8fDF1gAEz0js"
      },
      "source": [
        "def top_files(query, files, idfs, n):\n",
        "\n",
        "    tf_idfs = dict()\n",
        "\n",
        "    for filename in files:\n",
        "        tf_idfs[filename] = 0\n",
        "        for word in query:\n",
        "            tf_idfs[filename] += files[filename].count(word) * idfs[word]\n",
        "\n",
        "    return [key for key, value in sorted(tf_idfs.items(), key=lambda item: item[1], reverse=True)][:n]"
      ],
      "execution_count": 7,
      "outputs": []
    },
    {
      "cell_type": "code",
      "metadata": {
        "id": "fy0zyM-uz0np"
      },
      "source": [
        "\n",
        "def top_sentences(query, sentences, idfs, n):\n",
        "\n",
        "    rank = list()\n",
        "\n",
        "    for sentence in sentences:\n",
        "        sentence_values = [sentence, 0, 0]\n",
        "\n",
        "        for word in query:\n",
        "            if word in sentences[sentence]:\n",
        "                # Compute “matching word measure”\n",
        "                sentence_values[1] += idfs[word]\n",
        "                # Compute \"query term density\"\n",
        "                sentence_values[2] += sentences[sentence].count(word) / len(sentences[sentence])\n",
        "\n",
        "        rank.append(sentence_values)\n",
        "        \n",
        "    return [sentence for sentence, mwm, qtd in sorted(rank, key=lambda item: (item[1], item[2]), reverse=True)][:n]"
      ],
      "execution_count": 8,
      "outputs": []
    }
  ]
}