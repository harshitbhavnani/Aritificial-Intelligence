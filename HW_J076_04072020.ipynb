{
  "nbformat": 4,
  "nbformat_minor": 0,
  "metadata": {
    "colab": {
      "name": "HW_J076_04072020.ipynb",
      "provenance": [],
      "collapsed_sections": [],
      "authorship_tag": "ABX9TyOYYBUq+qqHj4NwkloazY6S",
      "include_colab_link": true
    },
    "kernelspec": {
      "name": "python3",
      "display_name": "Python 3"
    }
  },
  "cells": [
    {
      "cell_type": "markdown",
      "metadata": {
        "id": "view-in-github",
        "colab_type": "text"
      },
      "source": [
        "<a href=\"https://colab.research.google.com/github/harshitbhavnani/Aritificial-Intelligence/blob/Home-Work/HW_J076_04072020.ipynb\" target=\"_parent\"><img src=\"https://colab.research.google.com/assets/colab-badge.svg\" alt=\"Open In Colab\"/></a>"
      ]
    },
    {
      "cell_type": "markdown",
      "metadata": {
        "id": "Mo2y5_a5gjmy",
        "colab_type": "text"
      },
      "source": [
        "# **Lab Assignment 1**\n",
        "Name: Harshit Bhavnani\n",
        "Roll No: J076"
      ]
    },
    {
      "cell_type": "markdown",
      "metadata": {
        "id": "9Ix9n2yAg83y",
        "colab_type": "text"
      },
      "source": [
        "**Question 1 : If Else**"
      ]
    },
    {
      "cell_type": "code",
      "metadata": {
        "id": "z9oDcnJyb_OX",
        "colab_type": "code",
        "colab": {
          "base_uri": "https://localhost:8080/",
          "height": 51
        },
        "outputId": "a3780e5c-ad52-4dcd-9490-ffffbebea9d5"
      },
      "source": [
        "n = int(input().strip())\n",
        "check = {True: \"Not Weird\", False: \"Weird\"}\n",
        "\n",
        "print(check[\n",
        "        n%2==0 and (\n",
        "            n in range(2,6) or \n",
        "            n > 20)\n",
        "    ])"
      ],
      "execution_count": 7,
      "outputs": [
        {
          "output_type": "stream",
          "text": [
            "3\n",
            "Weird\n"
          ],
          "name": "stdout"
        }
      ]
    },
    {
      "cell_type": "markdown",
      "metadata": {
        "id": "vUMRtV_OhF-e",
        "colab_type": "text"
      },
      "source": [
        "**Question 2 : Arithmetic Operations**"
      ]
    },
    {
      "cell_type": "code",
      "metadata": {
        "id": "ECFMorWvebAo",
        "colab_type": "code",
        "colab": {
          "base_uri": "https://localhost:8080/",
          "height": 102
        },
        "outputId": "0db2c577-8011-42cc-888a-a0f0b6db9eca"
      },
      "source": [
        "a = int(input())\n",
        "b = int(input())\n",
        "\n",
        "print(a+b)\n",
        "print(a-b)\n",
        "print(a*b)"
      ],
      "execution_count": 5,
      "outputs": [
        {
          "output_type": "stream",
          "text": [
            "2\n",
            "3\n",
            "5\n",
            "-1\n",
            "6\n"
          ],
          "name": "stdout"
        }
      ]
    },
    {
      "cell_type": "markdown",
      "metadata": {
        "id": "6TptDG0MhPa_",
        "colab_type": "text"
      },
      "source": [
        "**Question 3 : Python: Divisions**"
      ]
    },
    {
      "cell_type": "code",
      "metadata": {
        "id": "_euu6IiYescc",
        "colab_type": "code",
        "colab": {
          "base_uri": "https://localhost:8080/",
          "height": 85
        },
        "outputId": "50131851-669a-4cd6-97e7-d324b4b041d4"
      },
      "source": [
        "a = int(input())\n",
        "b = int(input())\n",
        "\n",
        "print(a//b)\n",
        "print(a/b)"
      ],
      "execution_count": 6,
      "outputs": [
        {
          "output_type": "stream",
          "text": [
            "4\n",
            "2\n",
            "2\n",
            "2.0\n"
          ],
          "name": "stdout"
        }
      ]
    },
    {
      "cell_type": "markdown",
      "metadata": {
        "id": "Irmq58fahiqg",
        "colab_type": "text"
      },
      "source": [
        "**Question 4: Loops**"
      ]
    },
    {
      "cell_type": "code",
      "metadata": {
        "id": "7PjapxGbfUW-",
        "colab_type": "code",
        "colab": {
          "base_uri": "https://localhost:8080/",
          "height": 119
        },
        "outputId": "0a72607e-6f58-4e77-82e5-5744a83e8f23"
      },
      "source": [
        "n = int(input())\n",
        "\n",
        "for i in range(n):\n",
        "  print (i*i)\n"
      ],
      "execution_count": 9,
      "outputs": [
        {
          "output_type": "stream",
          "text": [
            "5\n",
            "0\n",
            "1\n",
            "4\n",
            "9\n",
            "16\n"
          ],
          "name": "stdout"
        }
      ]
    },
    {
      "cell_type": "markdown",
      "metadata": {
        "id": "14ZxeZyXgbVO",
        "colab_type": "text"
      },
      "source": [
        "**Question 5: Write a function**"
      ]
    },
    {
      "cell_type": "code",
      "metadata": {
        "id": "ny23Lxazf84g",
        "colab_type": "code",
        "colab": {
          "base_uri": "https://localhost:8080/",
          "height": 34
        },
        "outputId": "f02e82b8-c7d7-4a39-f255-c4e991a39135"
      },
      "source": [
        "def is_leap(year):\n",
        "    leap = False\n",
        "    \n",
        "    if (year%4==0):\n",
        "        leap=True\n",
        "        if(year%100==0):\n",
        "            leap=False\n",
        "            if(year%400==0):\n",
        "                leap=True    \n",
        "    return leap\n",
        "\n",
        "year = int(input())"
      ],
      "execution_count": 12,
      "outputs": [
        {
          "output_type": "stream",
          "text": [
            "100\n"
          ],
          "name": "stdout"
        }
      ]
    },
    {
      "cell_type": "markdown",
      "metadata": {
        "id": "5r518GlmiMWE",
        "colab_type": "text"
      },
      "source": [
        "**Question 6: Print Function**"
      ]
    },
    {
      "cell_type": "code",
      "metadata": {
        "id": "OCohVzhbiVR1",
        "colab_type": "code",
        "colab": {
          "base_uri": "https://localhost:8080/",
          "height": 51
        },
        "outputId": "818ec075-feac-4219-8b96-3a582c293901"
      },
      "source": [
        "n = int(input())\n",
        "\n",
        "a=n%10\n",
        "q=list()\n",
        "\n",
        "for i in range(n):\n",
        "    b=n\n",
        "    q.append(b)\n",
        "    n=n-1\n",
        "\n",
        "q.reverse()\n",
        "\n",
        "print(*q, sep='')"
      ],
      "execution_count": 14,
      "outputs": [
        {
          "output_type": "stream",
          "text": [
            "5\n",
            "12345\n"
          ],
          "name": "stdout"
        }
      ]
    },
    {
      "cell_type": "markdown",
      "metadata": {
        "id": "qEj2pdwrh7c7",
        "colab_type": "text"
      },
      "source": [
        "**Question 7: List Comprehensions**"
      ]
    },
    {
      "cell_type": "code",
      "metadata": {
        "id": "gXUwwOBYgYI-",
        "colab_type": "code",
        "colab": {
          "base_uri": "https://localhost:8080/",
          "height": 122
        },
        "outputId": "a0c6e7ed-85d4-4285-d459-72dc1a6594d4"
      },
      "source": [
        "x=int(input())\n",
        "y=int(input())\n",
        "z=int(input())\n",
        "n=int(input())\n",
        "print ([[a,b,c] for a in range(0,x+1) for b in range(0,y+1) for c in range(0,z+1) if a + b + c != n ])"
      ],
      "execution_count": 15,
      "outputs": [
        {
          "output_type": "stream",
          "text": [
            "2\n",
            "3\n",
            "4\n",
            "5\n",
            "[[0, 0, 0], [0, 0, 1], [0, 0, 2], [0, 0, 3], [0, 0, 4], [0, 1, 0], [0, 1, 1], [0, 1, 2], [0, 1, 3], [0, 2, 0], [0, 2, 1], [0, 2, 2], [0, 2, 4], [0, 3, 0], [0, 3, 1], [0, 3, 3], [0, 3, 4], [1, 0, 0], [1, 0, 1], [1, 0, 2], [1, 0, 3], [1, 1, 0], [1, 1, 1], [1, 1, 2], [1, 1, 4], [1, 2, 0], [1, 2, 1], [1, 2, 3], [1, 2, 4], [1, 3, 0], [1, 3, 2], [1, 3, 3], [1, 3, 4], [2, 0, 0], [2, 0, 1], [2, 0, 2], [2, 0, 4], [2, 1, 0], [2, 1, 1], [2, 1, 3], [2, 1, 4], [2, 2, 0], [2, 2, 2], [2, 2, 3], [2, 2, 4], [2, 3, 1], [2, 3, 2], [2, 3, 3], [2, 3, 4]]\n"
          ],
          "name": "stdout"
        }
      ]
    }
  ]
}