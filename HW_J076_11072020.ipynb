{
  "nbformat": 4,
  "nbformat_minor": 0,
  "metadata": {
    "colab": {
      "name": "HW_J076_11072020.ipynb",
      "provenance": [],
      "authorship_tag": "ABX9TyNnLRPJLlDRBntgp7Mup4Gz",
      "include_colab_link": true
    },
    "kernelspec": {
      "name": "python3",
      "display_name": "Python 3"
    },
    "accelerator": "GPU"
  },
  "cells": [
    {
      "cell_type": "markdown",
      "metadata": {
        "id": "view-in-github",
        "colab_type": "text"
      },
      "source": [
        "<a href=\"https://colab.research.google.com/github/harshitbhavnani/Aritificial-Intelligence/blob/Home-Work/HW_J076_11072020.ipynb\" target=\"_parent\"><img src=\"https://colab.research.google.com/assets/colab-badge.svg\" alt=\"Open In Colab\"/></a>"
      ]
    },
    {
      "cell_type": "markdown",
      "metadata": {
        "id": "9L4oGagIdbBA",
        "colab_type": "text"
      },
      "source": [
        "**1. Create a custom class DataRead to read csv file using pandas**\n",
        "\n",
        "**2. Create a custom function RowSelect within the class to select any 2 rows of the the the dataframe**\n",
        "\n",
        "**3. Create a sub class of DataRead1 as  DataRead2  that has function for correlation plots (using any lib for correlation plot)**\n",
        "\n",
        "**4. Within DataRead2 also create a function to override the custom function of DataRead1 RowSelect to select 3 rows**"
      ]
    },
    {
      "cell_type": "code",
      "metadata": {
        "id": "tEEf4bIjzqS4",
        "colab_type": "code",
        "colab": {}
      },
      "source": [
        "import pandas as pd\n",
        "import matplotlib.pylab as plt\n",
        "import numpy as np\n",
        "import io"
      ],
      "execution_count": 157,
      "outputs": []
    },
    {
      "cell_type": "code",
      "metadata": {
        "id": "b4oWzuejkG0g",
        "colab_type": "code",
        "colab": {}
      },
      "source": [
        "class DataRead:\n",
        "\n",
        "  def DataRead():\n",
        "    df=pd.read_csv('https://www.stats.govt.nz/assets/Uploads/Business-price-indexes/Business-price-indexes-March-2020-quarter/Download-data/business-price-indexes-march-2020-quarter-corrections-to-previously-published-statistics.csv')\n",
        "    return df\n",
        "\n",
        "  def RowSelect(n,df):\n",
        "    print(\"Insert Index\")\n",
        "    i=0\n",
        "    a = [int(0)] * n\n",
        "\n",
        "    for i in range(n):\n",
        "      a[i]=int(input())\n",
        "\n",
        "    for i in range(n):\n",
        "      t=a[i]\n",
        "      print( df.iloc[t] )"
      ],
      "execution_count": 156,
      "outputs": []
    },
    {
      "cell_type": "code",
      "metadata": {
        "id": "BfT98y4O1TEl",
        "colab_type": "code",
        "colab": {}
      },
      "source": [
        "class DataRead2(DataRead):\n",
        "\n",
        "  def correlation():\n",
        "    \n",
        "    df=DataRead.DataRead()\n",
        "    corr=df.corr()\n",
        "\n",
        "    fig = plt.figure()\n",
        "    ax = fig.add_subplot()\n",
        "\n",
        "    cax = ax.matshow(corr, cmap='coolwarm')\n",
        "\n",
        "    fig.colorbar(cax)\n",
        "\n",
        "    ticks = np.arange(0,len(corr.columns),1)\n",
        "\n",
        "    ax.set_xticks(ticks)\n",
        "    ax.set_yticks(ticks)\n",
        "\n",
        "    plt.xticks(rotation=90)\n",
        "\n",
        "    ax.set_xticklabels(corr.columns)\n",
        "    ax.set_yticklabels(corr.columns)\n",
        "\n",
        "    plt.show()\n",
        "  \n",
        "  def override(df):\n",
        "    DataRead.RowSelect(3,df)"
      ],
      "execution_count": 158,
      "outputs": []
    },
    {
      "cell_type": "code",
      "metadata": {
        "id": "zoGnMDculBoF",
        "colab_type": "code",
        "colab": {
          "base_uri": "https://localhost:8080/",
          "height": 450
        },
        "outputId": "c0ead7bf-4ad3-4e82-c850-bdd113afd951"
      },
      "source": [
        "df=DataRead.DataRead()\n",
        "df.index.name = 'no'\n",
        "df.index.astype(int)\n",
        "df"
      ],
      "execution_count": 159,
      "outputs": [
        {
          "output_type": "execute_result",
          "data": {
            "text/html": [
              "<div>\n",
              "<style scoped>\n",
              "    .dataframe tbody tr th:only-of-type {\n",
              "        vertical-align: middle;\n",
              "    }\n",
              "\n",
              "    .dataframe tbody tr th {\n",
              "        vertical-align: top;\n",
              "    }\n",
              "\n",
              "    .dataframe thead th {\n",
              "        text-align: right;\n",
              "    }\n",
              "</style>\n",
              "<table border=\"1\" class=\"dataframe\">\n",
              "  <thead>\n",
              "    <tr style=\"text-align: right;\">\n",
              "      <th></th>\n",
              "      <th>Series reference</th>\n",
              "      <th>Period</th>\n",
              "      <th>Description</th>\n",
              "      <th>Revised</th>\n",
              "      <th>Initially published</th>\n",
              "    </tr>\n",
              "    <tr>\n",
              "      <th>no</th>\n",
              "      <th></th>\n",
              "      <th></th>\n",
              "      <th></th>\n",
              "      <th></th>\n",
              "      <th></th>\n",
              "    </tr>\n",
              "  </thead>\n",
              "  <tbody>\n",
              "    <tr>\n",
              "      <th>0</th>\n",
              "      <td>2019.09</td>\n",
              "      <td>PPIQ.SQN800000</td>\n",
              "      <td>All industries excl admin health educati, Inpu...</td>\n",
              "      <td>1167</td>\n",
              "      <td>1164</td>\n",
              "    </tr>\n",
              "    <tr>\n",
              "      <th>1</th>\n",
              "      <td>2019.12</td>\n",
              "      <td>PPIQ.SQN800000</td>\n",
              "      <td>All industries excl admin health educati, Inpu...</td>\n",
              "      <td>1170</td>\n",
              "      <td>1166</td>\n",
              "    </tr>\n",
              "    <tr>\n",
              "      <th>2</th>\n",
              "      <td>2019.09</td>\n",
              "      <td>PPIQ.SQN800001</td>\n",
              "      <td>All industries ex admin health edu OOD, Inputs...</td>\n",
              "      <td>1167</td>\n",
              "      <td>1164</td>\n",
              "    </tr>\n",
              "    <tr>\n",
              "      <th>3</th>\n",
              "      <td>2019.12</td>\n",
              "      <td>PPIQ.SQN800001</td>\n",
              "      <td>All industries ex admin health edu OOD, Inputs...</td>\n",
              "      <td>1170</td>\n",
              "      <td>1166</td>\n",
              "    </tr>\n",
              "    <tr>\n",
              "      <th>4</th>\n",
              "      <td>2019.09</td>\n",
              "      <td>PPIQ.SQN900000</td>\n",
              "      <td>All industries, Inputs Indexes (Level 0)</td>\n",
              "      <td>1166</td>\n",
              "      <td>1164</td>\n",
              "    </tr>\n",
              "    <tr>\n",
              "      <th>...</th>\n",
              "      <td>...</td>\n",
              "      <td>...</td>\n",
              "      <td>...</td>\n",
              "      <td>...</td>\n",
              "      <td>...</td>\n",
              "    </tr>\n",
              "    <tr>\n",
              "      <th>62</th>\n",
              "      <td>2019.12</td>\n",
              "      <td>PPIQ.SQUCC1300</td>\n",
              "      <td>Dairy Product Manufacturing, Outputs Indexes (...</td>\n",
              "      <td>1220</td>\n",
              "      <td>1217</td>\n",
              "    </tr>\n",
              "    <tr>\n",
              "      <th>63</th>\n",
              "      <td>2019.09</td>\n",
              "      <td>PPIQ.SQUCC1310</td>\n",
              "      <td>Dairy Product Manufacturing, Outputs Indexes (...</td>\n",
              "      <td>1243</td>\n",
              "      <td>1241</td>\n",
              "    </tr>\n",
              "    <tr>\n",
              "      <th>64</th>\n",
              "      <td>2019.12</td>\n",
              "      <td>PPIQ.SQUCC1310</td>\n",
              "      <td>Dairy Product Manufacturing, Outputs Indexes (...</td>\n",
              "      <td>1220</td>\n",
              "      <td>1217</td>\n",
              "    </tr>\n",
              "    <tr>\n",
              "      <th>65</th>\n",
              "      <td>2019.12</td>\n",
              "      <td>PPIQ.SQUCC3200</td>\n",
              "      <td>Pulp, Paper and Converted Paper Product, Outpu...</td>\n",
              "      <td>1015</td>\n",
              "      <td>1014</td>\n",
              "    </tr>\n",
              "    <tr>\n",
              "      <th>66</th>\n",
              "      <td>2019.12</td>\n",
              "      <td>PPIQ.SQUCC3210</td>\n",
              "      <td>Pulp, Paper and Converted Paper Product Manufa...</td>\n",
              "      <td>1015</td>\n",
              "      <td>1014</td>\n",
              "    </tr>\n",
              "  </tbody>\n",
              "</table>\n",
              "<p>67 rows × 5 columns</p>\n",
              "</div>"
            ],
            "text/plain": [
              "    Series reference          Period  ... Revised  Initially published\n",
              "no                                    ...                             \n",
              "0            2019.09  PPIQ.SQN800000  ...    1167                 1164\n",
              "1            2019.12  PPIQ.SQN800000  ...    1170                 1166\n",
              "2            2019.09  PPIQ.SQN800001  ...    1167                 1164\n",
              "3            2019.12  PPIQ.SQN800001  ...    1170                 1166\n",
              "4            2019.09  PPIQ.SQN900000  ...    1166                 1164\n",
              "..               ...             ...  ...     ...                  ...\n",
              "62           2019.12  PPIQ.SQUCC1300  ...    1220                 1217\n",
              "63           2019.09  PPIQ.SQUCC1310  ...    1243                 1241\n",
              "64           2019.12  PPIQ.SQUCC1310  ...    1220                 1217\n",
              "65           2019.12  PPIQ.SQUCC3200  ...    1015                 1014\n",
              "66           2019.12  PPIQ.SQUCC3210  ...    1015                 1014\n",
              "\n",
              "[67 rows x 5 columns]"
            ]
          },
          "metadata": {
            "tags": []
          },
          "execution_count": 159
        }
      ]
    },
    {
      "cell_type": "code",
      "metadata": {
        "id": "Qmy-oHACm52_",
        "colab_type": "code",
        "colab": {
          "base_uri": "https://localhost:8080/",
          "height": 306
        },
        "outputId": "1e08603d-58d2-428a-825a-a8569110b62e"
      },
      "source": [
        "print(\"How many rows do you want to select?\")\n",
        "DataRead.RowSelect(int(input()),df)"
      ],
      "execution_count": 160,
      "outputs": [
        {
          "output_type": "stream",
          "text": [
            "How many rows do you want to select?\n",
            "2\n",
            "Insert Index\n",
            "66\n",
            "62\n",
            "Series reference                                                 2019.12\n",
            "Period                                                    PPIQ.SQUCC3210\n",
            "Description            Pulp, Paper and Converted Paper Product Manufa...\n",
            "Revised                                                             1015\n",
            "Initially published                                                 1014\n",
            "Name: 66, dtype: object\n",
            "Series reference                                                 2019.12\n",
            "Period                                                    PPIQ.SQUCC1300\n",
            "Description            Dairy Product Manufacturing, Outputs Indexes (...\n",
            "Revised                                                             1220\n",
            "Initially published                                                 1217\n",
            "Name: 62, dtype: object\n"
          ],
          "name": "stdout"
        }
      ]
    },
    {
      "cell_type": "code",
      "metadata": {
        "id": "Ob4f0rn1sm5r",
        "colab_type": "code",
        "colab": {
          "base_uri": "https://localhost:8080/",
          "height": 347
        },
        "outputId": "671b7f99-473d-4b83-d57f-15b2d5cf2f17"
      },
      "source": [
        "DataRead2.correlation()"
      ],
      "execution_count": 161,
      "outputs": [
        {
          "output_type": "display_data",
          "data": {
            "image/png": "[encoded data removed]",
            "text/plain": [
              "<Figure size 432x288 with 2 Axes>"
            ]
          },
          "metadata": {
            "tags": [],
            "needs_background": "light"
          }
        }
      ]
    },
    {
      "cell_type": "code",
      "metadata": {
        "id": "c4RJNFnb5s_E",
        "colab_type": "code",
        "colab": {
          "base_uri": "https://localhost:8080/",
          "height": 391
        },
        "outputId": "b03183ff-85f2-4385-a727-57443a6ad920"
      },
      "source": [
        "DataRead2.override(df)"
      ],
      "execution_count": 162,
      "outputs": [
        {
          "output_type": "stream",
          "text": [
            "Insert Index\n",
            "3\n",
            "4\n",
            "1\n",
            "Series reference                                                 2019.12\n",
            "Period                                                    PPIQ.SQN800001\n",
            "Description            All industries ex admin health edu OOD, Inputs...\n",
            "Revised                                                             1170\n",
            "Initially published                                                 1166\n",
            "Name: 3, dtype: object\n",
            "Series reference                                        2019.09\n",
            "Period                                           PPIQ.SQN900000\n",
            "Description            All industries, Inputs Indexes (Level 0)\n",
            "Revised                                                    1166\n",
            "Initially published                                        1164\n",
            "Name: 4, dtype: object\n",
            "Series reference                                                 2019.12\n",
            "Period                                                    PPIQ.SQN800000\n",
            "Description            All industries excl admin health educati, Inpu...\n",
            "Revised                                                             1170\n",
            "Initially published                                                 1166\n",
            "Name: 1, dtype: object\n"
          ],
          "name": "stdout"
        }
      ]
    }
  ]
}