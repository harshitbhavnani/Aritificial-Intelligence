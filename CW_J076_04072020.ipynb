{
  "nbformat": 4,
  "nbformat_minor": 0,
  "metadata": {
    "colab": {
      "name": "CW_J076_04072020",
      "provenance": [],
      "authorship_tag": "ABX9TyNR4TWY0yixiqMjUbYHQa3s",
      "include_colab_link": true
    },
    "kernelspec": {
      "name": "python3",
      "display_name": "Python 3"
    }
  },
  "cells": [
    {
      "cell_type": "markdown",
      "metadata": {
        "id": "view-in-github",
        "colab_type": "text"
      },
      "source": [
        "<a href=\"https://colab.research.google.com/github/harshitbhavnani/Aritificial-Intelligence/blob/Class-Work/CW_J076_04072020.ipynb\" target=\"_parent\"><img src=\"https://colab.research.google.com/assets/colab-badge.svg\" alt=\"Open In Colab\"/></a>"
      ]
    },
    {
      "cell_type": "code",
      "metadata": {
        "id": "XY5FOreCrPXE",
        "colab_type": "code",
        "colab": {}
      },
      "source": [
        "#Lecture:1 :Introduction to AI & Python"
      ],
      "execution_count": 1,
      "outputs": []
    },
    {
      "cell_type": "code",
      "metadata": {
        "id": "s7zRmbCYFeAT",
        "colab_type": "code",
        "colab": {
          "base_uri": "https://localhost:8080/",
          "height": 51
        },
        "outputId": "1054fee5-8373-4b90-b778-ce11c82f318d"
      },
      "source": [
        "#list\n",
        "a=[1,2,3,4,5,'human']\n",
        "print(a)\n",
        "type(a)"
      ],
      "execution_count": 20,
      "outputs": [
        {
          "output_type": "stream",
          "text": [
            "[1, 2, 3, 4, 5, 'human']\n"
          ],
          "name": "stdout"
        },
        {
          "output_type": "execute_result",
          "data": {
            "text/plain": [
              "list"
            ]
          },
          "metadata": {
            "tags": []
          },
          "execution_count": 20
        }
      ]
    },
    {
      "cell_type": "code",
      "metadata": {
        "id": "4Fcpq1dRvnZx",
        "colab_type": "code",
        "colab": {
          "base_uri": "https://localhost:8080/",
          "height": 51
        },
        "outputId": "14e6fa0c-8933-4ac9-ee90-87e81c6d17bf"
      },
      "source": [
        "#tuple\n",
        "a=(1,2,3,4,5,'human')\n",
        "print(a)\n",
        "type(a)"
      ],
      "execution_count": 8,
      "outputs": [
        {
          "output_type": "stream",
          "text": [
            "(1, 2, 3, 4, 5, 'human')\n"
          ],
          "name": "stdout"
        },
        {
          "output_type": "execute_result",
          "data": {
            "text/plain": [
              "tuple"
            ]
          },
          "metadata": {
            "tags": []
          },
          "execution_count": 8
        }
      ]
    },
    {
      "cell_type": "code",
      "metadata": {
        "id": "a0Hf8mmYvoM8",
        "colab_type": "code",
        "colab": {
          "base_uri": "https://localhost:8080/",
          "height": 51
        },
        "outputId": "d886e5ec-c1ae-4473-a67e-9c8e07d0ceec"
      },
      "source": [
        "#set\n",
        "a={1,2,3,4,5,'human'}\n",
        "print(a)\n",
        "type(a)"
      ],
      "execution_count": 9,
      "outputs": [
        {
          "output_type": "stream",
          "text": [
            "{1, 2, 3, 4, 5, 'human'}\n"
          ],
          "name": "stdout"
        },
        {
          "output_type": "execute_result",
          "data": {
            "text/plain": [
              "set"
            ]
          },
          "metadata": {
            "tags": []
          },
          "execution_count": 9
        }
      ]
    },
    {
      "cell_type": "code",
      "metadata": {
        "id": "13cK8jh3vonQ",
        "colab_type": "code",
        "colab": {
          "base_uri": "https://localhost:8080/",
          "height": 51
        },
        "outputId": "ad49d250-30c4-451b-8173-b31ddad63bc9"
      },
      "source": [
        "#dictionary\n",
        "a={'list':[1,2,3,4,5,'human'],\n",
        "   'tuple':(1,2,3,4,5,'human'),\n",
        "   'set':{1,2,3,4,5,'human'}\n",
        "  }\n",
        "print(a)\n",
        "type(a)"
      ],
      "execution_count": 10,
      "outputs": [
        {
          "output_type": "stream",
          "text": [
            "{'list': [1, 2, 3, 4, 5, 'human'], 'tuple': (1, 2, 3, 4, 5, 'human'), 'set': {1, 2, 3, 4, 5, 'human'}}\n"
          ],
          "name": "stdout"
        },
        {
          "output_type": "execute_result",
          "data": {
            "text/plain": [
              "dict"
            ]
          },
          "metadata": {
            "tags": []
          },
          "execution_count": 10
        }
      ]
    },
    {
      "cell_type": "code",
      "metadata": {
        "id": "H33aE0AsGS6Z",
        "colab_type": "code",
        "colab": {
          "base_uri": "https://localhost:8080/",
          "height": 35
        },
        "outputId": "bfc961aa-ff9f-4161-95ba-9774932b3a1b"
      },
      "source": [
        "a.pop()"
      ],
      "execution_count": 21,
      "outputs": [
        {
          "output_type": "execute_result",
          "data": {
            "application/vnd.google.colaboratory.intrinsic": {
              "type": "string"
            },
            "text/plain": [
              "'human'"
            ]
          },
          "metadata": {
            "tags": []
          },
          "execution_count": 21
        }
      ]
    }
  ]
}